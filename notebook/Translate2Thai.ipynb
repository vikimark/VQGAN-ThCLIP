{
  "cells": [
    {
      "cell_type": "code",
      "execution_count": null,
      "metadata": {
        "id": "tmNVHwzkxf4k"
      },
      "outputs": [],
      "source": [
        "!git clone https://github.com/vistec-AI/thai2transformers\n",
        "!git clone https://github.com/PyThaiNLP/pythainlp.git\n",
        "!cp /content/thai2transformers/thai2transformers/preprocess.py /content\n",
        "\n",
        "!pip install transformers\n",
        "!pip install sentencepiece\n",
        "!pip install pythainlp\n",
        "!pip install pythainlp[translate]\n",
        "!pip install emoji"
      ]
    },
    {
      "cell_type": "code",
      "execution_count": null,
      "metadata": {
        "id": "no4L3I7k6N-e"
      },
      "outputs": [],
      "source": [
        "!cp /content/drive/MyDrive/ccs_synthetic_sub/en_th.py  /usr/local/lib/python3.7/dist-packages/pythainlp/translate\n",
        "!cp /content/drive/MyDrive/ccs_synthetic_sub/core.py /usr/local/lib/python3.7/dist-packages/pythainlp/translate "
      ]
    },
    {
      "cell_type": "code",
      "execution_count": null,
      "metadata": {
        "id": "5mBmwVkN7bB7"
      },
      "outputs": [],
      "source": [
        "# !cp -R /content/pythainlp/pythainlp/translate /usr/local/lib/python3.7/dist-packages/pythainlp/"
      ]
    },
    {
      "cell_type": "code",
      "execution_count": null,
      "metadata": {
        "colab": {
          "base_uri": "https://localhost:8080/"
        },
        "id": "evxkdFg1xgow",
        "outputId": "1b11b935-75c2-43e9-938f-e45e97588821"
      },
      "outputs": [
        {
          "output_type": "stream",
          "name": "stderr",
          "text": [
            "/usr/local/lib/python3.7/dist-packages/ipykernel_launcher.py:7: TqdmExperimentalWarning: Using `tqdm.autonotebook.tqdm` in notebook mode. Use `tqdm.tqdm` instead to force console mode (e.g. in jupyter console)\n",
            "  import sys\n"
          ]
        }
      ],
      "source": [
        "import os\n",
        "import cv2\n",
        "import gc\n",
        "import numpy as np\n",
        "import pandas as pd\n",
        "import itertools\n",
        "from tqdm.autonotebook import tqdm\n",
        "import albumentations as A\n",
        "import matplotlib.pyplot as plt\n",
        "\n",
        "import torch\n",
        "from torch import nn\n",
        "import torch.nn.functional as F\n",
        "from transformers import (\n",
        "    CamembertModel,\n",
        "    CamembertTokenizer,\n",
        "    CamembertConfig,\n",
        ")\n",
        "from pythainlp.translate import Translate\n",
        "from preprocess import process_transformers"
      ]
    },
    {
      "cell_type": "markdown",
      "source": [
        "## experimental sect"
      ],
      "metadata": {
        "id": "Q33TwcGhnEda"
      }
    },
    {
      "cell_type": "code",
      "source": [
        "# import os\n",
        "# import tarfile\n",
        "# from collections import defaultdict\n",
        "\n",
        "# from pythainlp.corpus import download, get_corpus_path\n",
        "# from pythainlp.tools import get_full_data_path, get_pythainlp_data_path\n",
        "\n",
        "# from fairseq.models.transformer import TransformerModel\n",
        "# from sacremoses import MosesTokenizer\n",
        "\n",
        "\n",
        "# _EN_TH_MODEL_NAME = \"scb_1m_en-th_moses\"\n",
        "# # SCB_1M-MT_OPUS+TBASE_en-th_moses-spm_130000-16000_v1.0.tar.gz\n",
        "# _EN_TH_FILE_NAME = \"SCB_1M-MT_OPUS+TBASE_en-th_moses-spm_130000-16000_v1.0\""
      ],
      "metadata": {
        "id": "r-e5t_jkt_MV"
      },
      "execution_count": null,
      "outputs": []
    },
    {
      "cell_type": "code",
      "source": [
        "# def _get_translate_path(model: str, *path: str) -> str:\n",
        "#     return os.path.join(get_full_data_path(model), *path)\n",
        "\n",
        "# def _download_install(name: str) -> None:\n",
        "#     if get_corpus_path(name) is None:\n",
        "#         downlaoad(name, force=True, version=\"1.0\")\n",
        "#         tar = tarfile.open(get_corpus_path(name), \"r:gz\")\n",
        "#         tar.extractall()\n",
        "#         tar.close()\n",
        "#     if not os.path.exists(get_full_data_path(name)):\n",
        "#         os.mkdir(get_full_data_path(name))\n",
        "#         with tarfile.open(get_corpus_path(name)) as tar:\n",
        "#             tar.extractall(path=get_full_data_path(name))"
      ],
      "metadata": {
        "id": "PxGM6nTeuHBt"
      },
      "execution_count": null,
      "outputs": []
    },
    {
      "cell_type": "code",
      "source": [
        "# \" \".join(tokenizer.tokenize(['dog is swim?', 'Apple mango']))"
      ],
      "metadata": {
        "id": "93UIPjBCuu4x"
      },
      "execution_count": null,
      "outputs": []
    },
    {
      "cell_type": "code",
      "source": [
        "# model.translate(['is he swimming ?', 'mango'])"
      ],
      "metadata": {
        "id": "6oRtTgfSvWbR"
      },
      "execution_count": null,
      "outputs": []
    },
    {
      "cell_type": "code",
      "source": [
        "# en2th = Translate('en', 'th', False)"
      ],
      "metadata": {
        "id": "5YtZlseKnLQB"
      },
      "execution_count": null,
      "outputs": []
    },
    {
      "cell_type": "code",
      "source": [
        "# df.sample(10)"
      ],
      "metadata": {
        "id": "iR7L-SQDwXOV"
      },
      "execution_count": null,
      "outputs": []
    },
    {
      "cell_type": "code",
      "source": [
        "# caption = []\n",
        "# result = model.translate([\"swim\", \"apple\"])\n",
        "# result = [word.replace(\" \", \"\").replace(\"▁\", \" \").strip() for word in result]\n",
        "# caption = caption.append(result)\n",
        "# print(result)\n",
        "# print(caption)"
      ],
      "metadata": {
        "id": "FM7-RVwfsB2g"
      },
      "execution_count": null,
      "outputs": []
    },
    {
      "cell_type": "code",
      "source": [
        "# test = df.values.tolist()"
      ],
      "metadata": {
        "id": "ZCfxyEgKxfPH"
      },
      "execution_count": null,
      "outputs": []
    },
    {
      "cell_type": "code",
      "source": [
        "# caption_th = []\n",
        "# for chunk in dataloader:\n",
        "#     print(len(chunk))\n",
        "#     caption_th.append(model.translate(chunk))\n",
        "#     break\n",
        "# caption_th"
      ],
      "metadata": {
        "id": "YbdsYZHvnUvF"
      },
      "execution_count": null,
      "outputs": []
    },
    {
      "cell_type": "code",
      "source": [
        "# tokenizer = MosesTokenizer(\"en\")\n",
        "# model = TransformerModel.from_pretrained(\n",
        "#             model_name_or_path=_get_translate_path(\n",
        "#                 _EN_TH_MODEL_NAME,\n",
        "#                 _EN_TH_FILE_NAME,\n",
        "#                 \"models\",\n",
        "#             ),\n",
        "#             checkpoint_file=\"checkpoint.pt\",\n",
        "#             data_name_or_path=_get_translate_path(\n",
        "#                 _EN_TH_MODEL_NAME,\n",
        "#                 _EN_TH_FILE_NAME,\n",
        "#                 \"vocab\",\n",
        "#             ),\n",
        "#         )"
      ],
      "metadata": {
        "id": "0JebnCuGuQ5B"
      },
      "execution_count": null,
      "outputs": []
    },
    {
      "cell_type": "code",
      "source": [
        "# class CustomDataSet(torch.utils.data.Dataset):\n",
        "#     def __init__(self, caption):\n",
        "#         self.cap = caption\n",
        "    \n",
        "#     def __getitem__(self, idx):\n",
        "#         return list(self.cap[idx])\n",
        "\n",
        "#     def __len__(self):\n",
        "#         return len(self.cap)\n",
        "\n"
      ],
      "metadata": {
        "id": "IbPMNIERn5vU"
      },
      "execution_count": null,
      "outputs": []
    },
    {
      "cell_type": "code",
      "source": [
        "# dataset = CustomDataSet(df.values.tolist())\n",
        "# dataloader = torch.utils.data.DataLoader(\n",
        "#         dataset,\n",
        "#         batch_size=32,\n",
        "#         num_workers=2,\n",
        "#         shuffle=False,\n",
        "#     )"
      ],
      "metadata": {
        "id": "p0HGPnEiptjs"
      },
      "execution_count": null,
      "outputs": []
    },
    {
      "cell_type": "markdown",
      "source": [
        "## end exp sect"
      ],
      "metadata": {
        "id": "-lz6hI1EnH4N"
      }
    },
    {
      "cell_type": "markdown",
      "source": [
        "## dataloader"
      ],
      "metadata": {
        "id": "WMOwuAy-n3Mr"
      }
    },
    {
      "cell_type": "code",
      "execution_count": null,
      "metadata": {
        "id": "Z5yrSndKyewX"
      },
      "outputs": [],
      "source": [
        "# this load data from my google drive\n",
        "df = pd.read_csv('/content/drive/MyDrive/ccs_synthetic_sub/ccs_synthetic_01.csv')\n",
        "dfs = pd.read_csv('/content/drive/MyDrive/ccs_synthetic_sub/translated_ccs_synthetic_01.csv')\n",
        "df.drop(columns=['url'], inplace=True)"
      ]
    },
    {
      "cell_type": "code",
      "execution_count": null,
      "metadata": {
        "colab": {
          "base_uri": "https://localhost:8080/",
          "height": 419
        },
        "id": "eYgPfmWPyyLW",
        "outputId": "926468f8-8da0-49fd-bffb-4b2778e370dd"
      },
      "outputs": [
        {
          "output_type": "execute_result",
          "data": {
            "text/plain": [
              "                                                  caption\n",
              "0             an empty chair sitting in front of a window\n",
              "1       a house under construction with a building bei...\n",
              "2                a little boy that is sitting in a basket\n",
              "3             a man in an apron working on crates of fish\n",
              "4       a view from a bridge over a river in central park\n",
              "...                                                   ...\n",
              "999995        football player is awarded a matchday match\n",
              "999996  a collection of hand drawn sea adventures illu...\n",
              "999997  person wearing an outfit with guitar straps an...\n",
              "999998  a white and green diagram of a circuit with a ...\n",
              "999999  a man rows his canoe on a quiet lake surrounde...\n",
              "\n",
              "[1000000 rows x 1 columns]"
            ],
            "text/html": [
              "\n",
              "  <div id=\"df-57522730-50ba-4935-988b-33add1a4b239\">\n",
              "    <div class=\"colab-df-container\">\n",
              "      <div>\n",
              "<style scoped>\n",
              "    .dataframe tbody tr th:only-of-type {\n",
              "        vertical-align: middle;\n",
              "    }\n",
              "\n",
              "    .dataframe tbody tr th {\n",
              "        vertical-align: top;\n",
              "    }\n",
              "\n",
              "    .dataframe thead th {\n",
              "        text-align: right;\n",
              "    }\n",
              "</style>\n",
              "<table border=\"1\" class=\"dataframe\">\n",
              "  <thead>\n",
              "    <tr style=\"text-align: right;\">\n",
              "      <th></th>\n",
              "      <th>caption</th>\n",
              "    </tr>\n",
              "  </thead>\n",
              "  <tbody>\n",
              "    <tr>\n",
              "      <th>0</th>\n",
              "      <td>an empty chair sitting in front of a window</td>\n",
              "    </tr>\n",
              "    <tr>\n",
              "      <th>1</th>\n",
              "      <td>a house under construction with a building bei...</td>\n",
              "    </tr>\n",
              "    <tr>\n",
              "      <th>2</th>\n",
              "      <td>a little boy that is sitting in a basket</td>\n",
              "    </tr>\n",
              "    <tr>\n",
              "      <th>3</th>\n",
              "      <td>a man in an apron working on crates of fish</td>\n",
              "    </tr>\n",
              "    <tr>\n",
              "      <th>4</th>\n",
              "      <td>a view from a bridge over a river in central park</td>\n",
              "    </tr>\n",
              "    <tr>\n",
              "      <th>...</th>\n",
              "      <td>...</td>\n",
              "    </tr>\n",
              "    <tr>\n",
              "      <th>999995</th>\n",
              "      <td>football player is awarded a matchday match</td>\n",
              "    </tr>\n",
              "    <tr>\n",
              "      <th>999996</th>\n",
              "      <td>a collection of hand drawn sea adventures illu...</td>\n",
              "    </tr>\n",
              "    <tr>\n",
              "      <th>999997</th>\n",
              "      <td>person wearing an outfit with guitar straps an...</td>\n",
              "    </tr>\n",
              "    <tr>\n",
              "      <th>999998</th>\n",
              "      <td>a white and green diagram of a circuit with a ...</td>\n",
              "    </tr>\n",
              "    <tr>\n",
              "      <th>999999</th>\n",
              "      <td>a man rows his canoe on a quiet lake surrounde...</td>\n",
              "    </tr>\n",
              "  </tbody>\n",
              "</table>\n",
              "<p>1000000 rows × 1 columns</p>\n",
              "</div>\n",
              "      <button class=\"colab-df-convert\" onclick=\"convertToInteractive('df-57522730-50ba-4935-988b-33add1a4b239')\"\n",
              "              title=\"Convert this dataframe to an interactive table.\"\n",
              "              style=\"display:none;\">\n",
              "        \n",
              "  <svg xmlns=\"http://www.w3.org/2000/svg\" height=\"24px\"viewBox=\"0 0 24 24\"\n",
              "       width=\"24px\">\n",
              "    <path d=\"M0 0h24v24H0V0z\" fill=\"none\"/>\n",
              "    <path d=\"M18.56 5.44l.94 2.06.94-2.06 2.06-.94-2.06-.94-.94-2.06-.94 2.06-2.06.94zm-11 1L8.5 8.5l.94-2.06 2.06-.94-2.06-.94L8.5 2.5l-.94 2.06-2.06.94zm10 10l.94 2.06.94-2.06 2.06-.94-2.06-.94-.94-2.06-.94 2.06-2.06.94z\"/><path d=\"M17.41 7.96l-1.37-1.37c-.4-.4-.92-.59-1.43-.59-.52 0-1.04.2-1.43.59L10.3 9.45l-7.72 7.72c-.78.78-.78 2.05 0 2.83L4 21.41c.39.39.9.59 1.41.59.51 0 1.02-.2 1.41-.59l7.78-7.78 2.81-2.81c.8-.78.8-2.07 0-2.86zM5.41 20L4 18.59l7.72-7.72 1.47 1.35L5.41 20z\"/>\n",
              "  </svg>\n",
              "      </button>\n",
              "      \n",
              "  <style>\n",
              "    .colab-df-container {\n",
              "      display:flex;\n",
              "      flex-wrap:wrap;\n",
              "      gap: 12px;\n",
              "    }\n",
              "\n",
              "    .colab-df-convert {\n",
              "      background-color: #E8F0FE;\n",
              "      border: none;\n",
              "      border-radius: 50%;\n",
              "      cursor: pointer;\n",
              "      display: none;\n",
              "      fill: #1967D2;\n",
              "      height: 32px;\n",
              "      padding: 0 0 0 0;\n",
              "      width: 32px;\n",
              "    }\n",
              "\n",
              "    .colab-df-convert:hover {\n",
              "      background-color: #E2EBFA;\n",
              "      box-shadow: 0px 1px 2px rgba(60, 64, 67, 0.3), 0px 1px 3px 1px rgba(60, 64, 67, 0.15);\n",
              "      fill: #174EA6;\n",
              "    }\n",
              "\n",
              "    [theme=dark] .colab-df-convert {\n",
              "      background-color: #3B4455;\n",
              "      fill: #D2E3FC;\n",
              "    }\n",
              "\n",
              "    [theme=dark] .colab-df-convert:hover {\n",
              "      background-color: #434B5C;\n",
              "      box-shadow: 0px 1px 3px 1px rgba(0, 0, 0, 0.15);\n",
              "      filter: drop-shadow(0px 1px 2px rgba(0, 0, 0, 0.3));\n",
              "      fill: #FFFFFF;\n",
              "    }\n",
              "  </style>\n",
              "\n",
              "      <script>\n",
              "        const buttonEl =\n",
              "          document.querySelector('#df-57522730-50ba-4935-988b-33add1a4b239 button.colab-df-convert');\n",
              "        buttonEl.style.display =\n",
              "          google.colab.kernel.accessAllowed ? 'block' : 'none';\n",
              "\n",
              "        async function convertToInteractive(key) {\n",
              "          const element = document.querySelector('#df-57522730-50ba-4935-988b-33add1a4b239');\n",
              "          const dataTable =\n",
              "            await google.colab.kernel.invokeFunction('convertToInteractive',\n",
              "                                                     [key], {});\n",
              "          if (!dataTable) return;\n",
              "\n",
              "          const docLinkHtml = 'Like what you see? Visit the ' +\n",
              "            '<a target=\"_blank\" href=https://colab.research.google.com/notebooks/data_table.ipynb>data table notebook</a>'\n",
              "            + ' to learn more about interactive tables.';\n",
              "          element.innerHTML = '';\n",
              "          dataTable['output_type'] = 'display_data';\n",
              "          await google.colab.output.renderOutput(dataTable, element);\n",
              "          const docLink = document.createElement('div');\n",
              "          docLink.innerHTML = docLinkHtml;\n",
              "          element.appendChild(docLink);\n",
              "        }\n",
              "      </script>\n",
              "    </div>\n",
              "  </div>\n",
              "  "
            ]
          },
          "metadata": {},
          "execution_count": 21
        }
      ],
      "source": [
        "df"
      ]
    },
    {
      "cell_type": "code",
      "execution_count": null,
      "metadata": {
        "id": "R3wkcl22xUrA"
      },
      "outputs": [],
      "source": [
        "# dfs_00 = pd.read_csv('/content/drive/MyDrive/ccs_synthetic_sub/translated_ccs_synthetic_01_00.csv')\n",
        "lens_cap = len(dfs.values.tolist()) # + len(dfs_00)\n",
        "caption_th = []\n",
        "en2th = Translate('en', 'th', True)\n",
        "\n",
        "for i in tqdm(range(lens_cap, len(df[\"caption\"]))):\n",
        "  sentences = df.iloc[i, 0]\n",
        "  caption_th.append(process_transformers(en2th.translate(sentences)))\n",
        "  if i % 1000 == 0:\n",
        "    df_th = pd.DataFrame(caption_th)\n",
        "    df_th.to_csv(\"/content/drive/MyDrive/ccs_synthetic_sub/translated_ccs_synthetic_01_00.csv\", index=False)\n",
        "\n",
        "df_th = pd.DataFrame(caption_th)\n",
        "df_th.to_csv(\"/content/drive/MyDrive/ccs_synthetic_sub/translated_ccs_synthetic_01.csv\", index=False)"
      ]
    },
    {
      "cell_type": "code",
      "source": [
        "dfs = dfs[0:119101]['0']"
      ],
      "metadata": {
        "id": "6rwyvumIGacL"
      },
      "execution_count": null,
      "outputs": []
    },
    {
      "cell_type": "code",
      "execution_count": null,
      "metadata": {
        "id": "qBtBU9cq8MuM"
      },
      "outputs": [],
      "source": [
        "dfs.to_csv('/content/drive/MyDrive/ccs_synthetic_sub/translated_ccs_synthetic_01.csv', index=False)"
      ]
    },
    {
      "cell_type": "code",
      "source": [
        "dfss = pd.read_csv('/content/drive/MyDrive/ccs_synthetic_sub/translated_ccs_synthetic_01.csv')"
      ],
      "metadata": {
        "id": "DylY76S5HI4O"
      },
      "execution_count": null,
      "outputs": []
    },
    {
      "cell_type": "code",
      "source": [
        "dfss"
      ],
      "metadata": {
        "id": "1tUP6nHpHWAu",
        "outputId": "2141368e-e314-478c-8db1-5d86c0b110bd",
        "colab": {
          "base_uri": "https://localhost:8080/",
          "height": 424
        }
      },
      "execution_count": null,
      "outputs": [
        {
          "output_type": "execute_result",
          "data": {
            "text/plain": [
              "                                                        0\n",
              "0                      เก้าอี้ว่างที่นั่งอยู่หน้าหน้าต่าง\n",
              "1                 บ้านภายใต้การก่อสร้างที่มีการสร้างอาคาร\n",
              "2                             เด็กน้อยที่นั่งอยู่ในตะกร้า\n",
              "3                      ชายในผ้ากันเปื้อน<_>ทํางานในลังปลา\n",
              "4                  วิวจากสะพานเหนือแม่น้ําในเซ็นทรัลปาร์ค\n",
              "...                                                   ...\n",
              "119096  เค้กแต่งงานจะจัดไว้สําหรับคู่รักที่แผนกต้อนรับ...\n",
              "119097            สองคนสวมชุดแบบดั้งเดิม<_>ยืนอยู่หน้าตึก\n",
              "119098  โต๊ะยาวที่มีดอกไม้สีขาวและสีชมพูและโคมไฟแขวนจา...\n",
              "119099             บาร์ที่สวนเบียร์ที่โรงแรมสตาร์วอร์สค่ะ\n",
              "119100           ภาพของสถานที่ก่อสร้างของโรงแรมใกล้ชายหาด\n",
              "\n",
              "[119101 rows x 1 columns]"
            ],
            "text/html": [
              "<div>\n",
              "<style scoped>\n",
              "    .dataframe tbody tr th:only-of-type {\n",
              "        vertical-align: middle;\n",
              "    }\n",
              "\n",
              "    .dataframe tbody tr th {\n",
              "        vertical-align: top;\n",
              "    }\n",
              "\n",
              "    .dataframe thead th {\n",
              "        text-align: right;\n",
              "    }\n",
              "</style>\n",
              "<table border=\"1\" class=\"dataframe\">\n",
              "  <thead>\n",
              "    <tr style=\"text-align: right;\">\n",
              "      <th></th>\n",
              "      <th>0</th>\n",
              "    </tr>\n",
              "  </thead>\n",
              "  <tbody>\n",
              "    <tr>\n",
              "      <th>0</th>\n",
              "      <td>เก้าอี้ว่างที่นั่งอยู่หน้าหน้าต่าง</td>\n",
              "    </tr>\n",
              "    <tr>\n",
              "      <th>1</th>\n",
              "      <td>บ้านภายใต้การก่อสร้างที่มีการสร้างอาคาร</td>\n",
              "    </tr>\n",
              "    <tr>\n",
              "      <th>2</th>\n",
              "      <td>เด็กน้อยที่นั่งอยู่ในตะกร้า</td>\n",
              "    </tr>\n",
              "    <tr>\n",
              "      <th>3</th>\n",
              "      <td>ชายในผ้ากันเปื้อน&lt;_&gt;ทํางานในลังปลา</td>\n",
              "    </tr>\n",
              "    <tr>\n",
              "      <th>4</th>\n",
              "      <td>วิวจากสะพานเหนือแม่น้ําในเซ็นทรัลปาร์ค</td>\n",
              "    </tr>\n",
              "    <tr>\n",
              "      <th>...</th>\n",
              "      <td>...</td>\n",
              "    </tr>\n",
              "    <tr>\n",
              "      <th>119096</th>\n",
              "      <td>เค้กแต่งงานจะจัดไว้สําหรับคู่รักที่แผนกต้อนรับ...</td>\n",
              "    </tr>\n",
              "    <tr>\n",
              "      <th>119097</th>\n",
              "      <td>สองคนสวมชุดแบบดั้งเดิม&lt;_&gt;ยืนอยู่หน้าตึก</td>\n",
              "    </tr>\n",
              "    <tr>\n",
              "      <th>119098</th>\n",
              "      <td>โต๊ะยาวที่มีดอกไม้สีขาวและสีชมพูและโคมไฟแขวนจา...</td>\n",
              "    </tr>\n",
              "    <tr>\n",
              "      <th>119099</th>\n",
              "      <td>บาร์ที่สวนเบียร์ที่โรงแรมสตาร์วอร์สค่ะ</td>\n",
              "    </tr>\n",
              "    <tr>\n",
              "      <th>119100</th>\n",
              "      <td>ภาพของสถานที่ก่อสร้างของโรงแรมใกล้ชายหาด</td>\n",
              "    </tr>\n",
              "  </tbody>\n",
              "</table>\n",
              "<p>119101 rows × 1 columns</p>\n",
              "</div>"
            ]
          },
          "metadata": {},
          "execution_count": 18
        }
      ]
    },
    {
      "cell_type": "code",
      "source": [
        ""
      ],
      "metadata": {
        "id": "bq-ovJezHWl2"
      },
      "execution_count": null,
      "outputs": []
    }
  ],
  "metadata": {
    "colab": {
      "collapsed_sections": [],
      "name": "Translate2Thai.ipynb",
      "provenance": []
    },
    "kernelspec": {
      "display_name": "Python 3",
      "name": "python3"
    },
    "language_info": {
      "name": "python"
    },
    "accelerator": "GPU"
  },
  "nbformat": 4,
  "nbformat_minor": 0
}