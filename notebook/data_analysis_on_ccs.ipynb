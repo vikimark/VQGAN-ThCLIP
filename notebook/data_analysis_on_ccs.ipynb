{
  "nbformat": 4,
  "nbformat_minor": 0,
  "metadata": {
    "colab": {
      "name": "data analysis on ccs.ipynb",
      "provenance": []
    },
    "kernelspec": {
      "name": "python3",
      "display_name": "Python 3"
    },
    "language_info": {
      "name": "python"
    },
    "gpuClass": "standard"
  },
  "cells": [
    {
      "cell_type": "code",
      "execution_count": null,
      "metadata": {
        "id": "-mkOcRWE2IN7"
      },
      "outputs": [],
      "source": [
        "import pandas as pd\n",
        "import random"
      ]
    },
    {
      "cell_type": "code",
      "source": [
        "from google.colab import drive\n",
        "drive.mount('/content/drive')"
      ],
      "metadata": {
        "colab": {
          "base_uri": "https://localhost:8080/"
        },
        "id": "IFTZCcSzWHV9",
        "outputId": "0ed4f4fa-0485-465d-def9-3018ab1b3c0f"
      },
      "execution_count": null,
      "outputs": [
        {
          "output_type": "stream",
          "name": "stdout",
          "text": [
            "Drive already mounted at /content/drive; to attempt to forcibly remount, call drive.mount(\"/content/drive\", force_remount=True).\n"
          ]
        }
      ]
    },
    {
      "cell_type": "code",
      "source": [
        "df = pd.read_csv('/content/drive/MyDrive/ccs_synthetic_sub/Thai_translated/thai_translated_01.csv')\n",
        "df_eng = pd.read_csv('/content/drive/MyDrive/ccs_synthetic_sub/ccs_synthetic_01.csv')"
      ],
      "metadata": {
        "id": "r9PbpuPj2N2M"
      },
      "execution_count": null,
      "outputs": []
    },
    {
      "cell_type": "code",
      "source": [
        "for i in range(10):\n",
        "  idx = random.randint(0, 1000000)\n",
        "  print(df_eng.iloc[[idx], 0].values.tolist(), df.iloc[idx].values.tolist(), sep='\\n')\n",
        "  print()\n",
        "\n",
        "# print(*df.iloc[idx].values.tolist(), sep='\\n')\n",
        "# print(*df_eng.iloc[idx, 0].values.tolist(), sep='\\n')"
      ],
      "metadata": {
        "colab": {
          "base_uri": "https://localhost:8080/"
        },
        "id": "vbEcLByz2dDJ",
        "outputId": "75cf768c-5d79-4a19-dc5c-3fc15e99b473"
      },
      "execution_count": null,
      "outputs": [
        {
          "output_type": "stream",
          "name": "stdout",
          "text": [
            "['the prince of wales and the duke of edinburgh chat to some men']\n",
            "['เจ้าชายแห่งคาลลี<_>และดยุคแห่งคาลลี<_>คุยกับผู้ชายบางคน']\n",
            "\n",
            "['an ornate mural above the main entrance']\n",
            "['ภาพจิตรกรรมฝาผนังหรูหราเหนือทางเข้าหลัก']\n",
            "\n",
            "['a pink flower in a blue frame with a blue background']\n",
            "['ดอกไม้สีชมพูในกรอบสีฟ้าที่มีพื้นหลังสีฟ้า']\n",
            "\n",
            "['the car in the garage is old but the floor is rotten down']\n",
            "['รถในโรงรถเก่าแต่พื้นมันเน่าแล้ว']\n",
            "\n",
            "['a painting on the wall at the bar']\n",
            "['ภาพวาดบนผนังที่บาร์']\n",
            "\n",
            "['a soccer player clapping his hands at the end of a game']\n",
            "['ผู้เล่นฟุตบอลตบมือในตอนท้ายของเกม']\n",
            "\n",
            "['white sugar cubes scattered in white sugar sugar cubes are the largest producers of sugar']\n",
            "['น้ําตาลทรายขาวก้อนที่กระจัดกระจายอยู่ในก้อนน้ําตาลขาวเป็นผู้ผลิตน้ําตาลรายใหญ่ที่สุด']\n",
            "\n",
            "['the building in which the hotel is located']\n",
            "['อาคารที่อยู่ของโรงแรม']\n",
            "\n",
            "['a cat in bunny ears is on a chair']\n",
            "['แมวในหูกระต่ายอยู่บนเก้าอี้']\n",
            "\n",
            "['the cockpit in the new boat']\n",
            "['ห้องนักบินในเรือใหม่']\n",
            "\n"
          ]
        }
      ]
    },
    {
      "cell_type": "code",
      "source": [
        ""
      ],
      "metadata": {
        "id": "C0e-1qu72dlC"
      },
      "execution_count": null,
      "outputs": []
    }
  ]
}